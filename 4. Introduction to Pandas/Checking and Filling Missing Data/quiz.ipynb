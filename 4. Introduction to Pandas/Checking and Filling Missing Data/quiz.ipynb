{
 "cells": [
  {
   "cell_type": "markdown",
   "metadata": {},
   "source": [
    "This question uses the Titanic Dataset, available here: https://raw.githubusercontent.com/dphi-official/Datasets/master/titanic_data.csv "
   ]
  },
  {
   "cell_type": "code",
   "execution_count": 1,
   "metadata": {},
   "outputs": [],
   "source": [
    "import pandas as pd\n",
    "\n",
    "data = pd.read_csv(\"https://raw.githubusercontent.com/dphi-official/Datasets/master/titanic_data.csv\")"
   ]
  },
  {
   "cell_type": "markdown",
   "metadata": {},
   "source": [
    "1. Check if the dataset has any missing values or not. If there are any missing values, then which of the following columns are they? [Note: If there is no missing value, then select the last option]\n",
    "\n",
    "* Age\n",
    "* Cabin\n",
    "* Embarked\n",
    "* All of the above \n",
    "* Only 1 and 3"
   ]
  },
  {
   "cell_type": "code",
   "execution_count": 2,
   "metadata": {},
   "outputs": [
    {
     "data": {
      "text/plain": [
       "PassengerId      0\n",
       "Survived         0\n",
       "Pclass           0\n",
       "Name             0\n",
       "Sex              0\n",
       "Age            177\n",
       "SibSp            0\n",
       "Parch            0\n",
       "Ticket           0\n",
       "Fare             0\n",
       "Cabin          687\n",
       "Embarked         2\n",
       "dtype: int64"
      ]
     },
     "execution_count": 2,
     "metadata": {},
     "output_type": "execute_result"
    }
   ],
   "source": [
    "data.isnull().sum()"
   ]
  },
  {
   "cell_type": "markdown",
   "metadata": {},
   "source": [
    "2. Find the mean value of Age column and assign it to a variable age_mean_before. Fill the missing value of the column Age with the mean value i.e. age_mean_before. [To calculate mean you can directly use mean() method on the Age column]. After filling the missing value of the column Age, find the mean of column Age again and assign it to a variable age_mean_after. Select the correct answer.\n",
    "\n",
    "* The mean value before filling the missing value (i.e. mean_value_before) and the mean value after filing the missing value (i.e. mean_value_after) are same (consider mean value upto 2 decimal places in both the cases)\n",
    "* The mean value before filling the missing value (i.e. mean_value_before) and the mean value after filing the missing value (i.e. mean_value_after) are not same (consider mean value upto 2 decimal places in both the cases)\n",
    "* Non of the above"
   ]
  },
  {
   "cell_type": "code",
   "execution_count": 3,
   "metadata": {},
   "outputs": [
    {
     "name": "stdout",
     "output_type": "stream",
     "text": [
      "Age mean before:  29.69911764705882\n",
      "Age mean after:  29.69911764705882\n"
     ]
    }
   ],
   "source": [
    "age_mean_before = data['Age'].mean()\n",
    "sample_data = data[\"Age\"].fillna(data[\"Age\"].mean())\n",
    "age_mean_after = sample_data.mean()\n",
    "print(\"Age mean before: \", age_mean_before)\n",
    "print(\"Age mean after: \", age_mean_after)"
   ]
  },
  {
   "cell_type": "markdown",
   "metadata": {},
   "source": [
    "3. Find the maximum occurring value/category in the column Embarked [Hint: value_counts()]. Fill the missing value in this column Embarked with the maximum occurring value. Select the correct statement.\n",
    "\n",
    "* The number of occurrence of category 'S' after filling the missing value and before filling the missing value is same.\n",
    "* The number of occurrence of category 'C' after filling the missing value and befor filling the missing value are same.\n",
    "* The number of occurrence of category 'Q' after filling the missing value and before filling the missing value is not the same.\n",
    "* All of the above are correct\n",
    "* None of the above are correct"
   ]
  },
  {
   "cell_type": "code",
   "execution_count": 10,
   "metadata": {},
   "outputs": [
    {
     "data": {
      "text/plain": [
       "891"
      ]
     },
     "execution_count": 10,
     "metadata": {},
     "output_type": "execute_result"
    }
   ],
   "source": [
    "sample_data = data[\"Embarked\"]\n",
    "count_before = sample_data.value_counts() #S 644, C 168, Q 77 // T 889\n",
    "sample_data_after = sample_data.fillna(\"S\")\n",
    "count_after = sample_data_after.value_counts() #S 646, C 168, Q 77 // T 891\n"
   ]
  }
 ],
 "metadata": {
  "kernelspec": {
   "display_name": "base",
   "language": "python",
   "name": "python3"
  },
  "language_info": {
   "codemirror_mode": {
    "name": "ipython",
    "version": 3
   },
   "file_extension": ".py",
   "mimetype": "text/x-python",
   "name": "python",
   "nbconvert_exporter": "python",
   "pygments_lexer": "ipython3",
   "version": "3.11.5"
  }
 },
 "nbformat": 4,
 "nbformat_minor": 2
}
