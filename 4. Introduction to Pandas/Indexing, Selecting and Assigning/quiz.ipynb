{
 "cells": [
  {
   "cell_type": "markdown",
   "metadata": {},
   "source": [
    "This exercise uses the SMA Dataset, imported into a Pandas dataframe called 'sma_data'. You can find the dataset here: https://raw.githubusercontent.com/dphi-official/Datasets/master/Standard_Metropolitan_Areas_Data-data.csv"
   ]
  },
  {
   "cell_type": "code",
   "execution_count": 12,
   "metadata": {},
   "outputs": [],
   "source": [
    "import pandas as pd\n",
    "\n",
    "data = pd.read_csv(\"https://raw.githubusercontent.com/dphi-official/Datasets/master/Standard_Metropolitan_Areas_Data-data.csv\")"
   ]
  },
  {
   "cell_type": "markdown",
   "metadata": {},
   "source": [
    "1. Use the index-based selection technique to select the 10th observation from data frame sma_data. What is the crime_rate for this observation? [Remember indexing in Python starts with 0, so if you have to select nth observation, you should get the observation present at index n-1]\n",
    "\n",
    "* 30.51\n",
    "* 55.30\n",
    "* 54.16\n",
    "* 52.73\n",
    "* None of the above"
   ]
  },
  {
   "cell_type": "code",
   "execution_count": 14,
   "metadata": {},
   "outputs": [
    {
     "data": {
      "text/plain": [
       "0    75.55\n",
       "1    56.03\n",
       "2    41.32\n",
       "3    67.38\n",
       "4    80.19\n",
       "5    58.48\n",
       "6    72.25\n",
       "7    64.88\n",
       "8    30.51\n",
       "9    55.30\n",
       "Name: crime_rate, dtype: float64"
      ]
     },
     "execution_count": 14,
     "metadata": {},
     "output_type": "execute_result"
    }
   ],
   "source": [
    "data.iloc[0:10,9] "
   ]
  },
  {
   "cell_type": "markdown",
   "metadata": {},
   "source": [
    "2. Select the physicians column. Get the last value from physicians column.\n",
    "\n",
    "* 140\n",
    "* 135\n",
    "* 145\n",
    "* 142\n",
    "* None of the above"
   ]
  },
  {
   "cell_type": "code",
   "execution_count": 28,
   "metadata": {},
   "outputs": [
    {
     "data": {
      "text/plain": [
       "98    140\n",
       "Name: physicians, dtype: int64"
      ]
     },
     "execution_count": 28,
     "metadata": {},
     "output_type": "execute_result"
    }
   ],
   "source": [
    "data.iloc[-1:len(data), 3]"
   ]
  },
  {
   "cell_type": "markdown",
   "metadata": {},
   "source": [
    "3. Select the records with index labels (numerical positions) - 1, 3, 5, 7, 9 and 13 and columns - 'land_area', 'work_force', 'income', 'region' and 'crime_rate'. Assign the result to a variable sample_data1. Select the correct statement about this sample_data1. [Hint: Use label-based selection technique]\n",
    "\n",
    "* The crime rates are less than 70 for all the observations in the dataframe sample_data\n",
    "* The observation indexed at 13 has income of 12591\n",
    "* Both of the above are correct\n",
    "* None of the above are correct"
   ]
  },
  {
   "cell_type": "code",
   "execution_count": 32,
   "metadata": {},
   "outputs": [
    {
     "data": {
      "text/html": [
       "<div>\n",
       "<style scoped>\n",
       "    .dataframe tbody tr th:only-of-type {\n",
       "        vertical-align: middle;\n",
       "    }\n",
       "\n",
       "    .dataframe tbody tr th {\n",
       "        vertical-align: top;\n",
       "    }\n",
       "\n",
       "    .dataframe thead th {\n",
       "        text-align: right;\n",
       "    }\n",
       "</style>\n",
       "<table border=\"1\" class=\"dataframe\">\n",
       "  <thead>\n",
       "    <tr style=\"text-align: right;\">\n",
       "      <th></th>\n",
       "      <th>land_area</th>\n",
       "      <th>work_force</th>\n",
       "      <th>income</th>\n",
       "      <th>region</th>\n",
       "      <th>crime_rate</th>\n",
       "    </tr>\n",
       "  </thead>\n",
       "  <tbody>\n",
       "    <tr>\n",
       "      <th>1</th>\n",
       "      <td>3719</td>\n",
       "      <td>3305.9</td>\n",
       "      <td>54542</td>\n",
       "      <td>2</td>\n",
       "      <td>56.03</td>\n",
       "    </tr>\n",
       "    <tr>\n",
       "      <th>3</th>\n",
       "      <td>3916</td>\n",
       "      <td>1966.7</td>\n",
       "      <td>32906</td>\n",
       "      <td>2</td>\n",
       "      <td>67.38</td>\n",
       "    </tr>\n",
       "    <tr>\n",
       "      <th>5</th>\n",
       "      <td>2815</td>\n",
       "      <td>1541.9</td>\n",
       "      <td>25663</td>\n",
       "      <td>3</td>\n",
       "      <td>58.48</td>\n",
       "    </tr>\n",
       "    <tr>\n",
       "      <th>7</th>\n",
       "      <td>6794</td>\n",
       "      <td>1272.7</td>\n",
       "      <td>18221</td>\n",
       "      <td>3</td>\n",
       "      <td>64.88</td>\n",
       "    </tr>\n",
       "    <tr>\n",
       "      <th>9</th>\n",
       "      <td>4647</td>\n",
       "      <td>1032.2</td>\n",
       "      <td>14542</td>\n",
       "      <td>2</td>\n",
       "      <td>55.30</td>\n",
       "    </tr>\n",
       "    <tr>\n",
       "      <th>13</th>\n",
       "      <td>782</td>\n",
       "      <td>915.2</td>\n",
       "      <td>12591</td>\n",
       "      <td>4</td>\n",
       "      <td>63.20</td>\n",
       "    </tr>\n",
       "  </tbody>\n",
       "</table>\n",
       "</div>"
      ],
      "text/plain": [
       "    land_area  work_force  income  region  crime_rate\n",
       "1        3719      3305.9   54542       2       56.03\n",
       "3        3916      1966.7   32906       2       67.38\n",
       "5        2815      1541.9   25663       3       58.48\n",
       "7        6794      1272.7   18221       3       64.88\n",
       "9        4647      1032.2   14542       2       55.30\n",
       "13        782       915.2   12591       4       63.20"
      ]
     },
     "execution_count": 32,
     "metadata": {},
     "output_type": "execute_result"
    }
   ],
   "source": [
    "data.loc[[1,3,5,7,9,13], [\"land_area\",\"work_force\",\"income\",\"region\",\"crime_rate\"]] "
   ]
  },
  {
   "cell_type": "markdown",
   "metadata": {},
   "source": [
    "4. Select the observations for which the region is equal to 2. Assign the result to a variable sample_data2. How many observations are there in the dataframe sample_data2? [Hint: sma_data.region is equal to?]\n",
    "\n",
    "* 25\n",
    "* 10\n",
    "* 43\n",
    "* 63\n",
    "* 37"
   ]
  },
  {
   "cell_type": "code",
   "execution_count": 46,
   "metadata": {},
   "outputs": [
    {
     "data": {
      "text/plain": [
       "region\n",
       "False    74\n",
       "True     25\n",
       "Name: count, dtype: int64"
      ]
     },
     "execution_count": 46,
     "metadata": {},
     "output_type": "execute_result"
    }
   ],
   "source": [
    "sample_data = data.loc[:,\"region\"] == 2\n",
    "sample_data.value_counts() #False 74, True 25"
   ]
  }
 ],
 "metadata": {
  "kernelspec": {
   "display_name": "base",
   "language": "python",
   "name": "python3"
  },
  "language_info": {
   "codemirror_mode": {
    "name": "ipython",
    "version": 3
   },
   "file_extension": ".py",
   "mimetype": "text/x-python",
   "name": "python",
   "nbconvert_exporter": "python",
   "pygments_lexer": "ipython3",
   "version": "3.11.5"
  }
 },
 "nbformat": 4,
 "nbformat_minor": 2
}
