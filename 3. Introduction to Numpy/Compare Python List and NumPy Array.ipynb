{
 "cells": [
  {
   "cell_type": "markdown",
   "metadata": {},
   "source": [
    "Compare Python List & Numpy Array\n"
   ]
  },
  {
   "cell_type": "code",
   "execution_count": 1,
   "metadata": {},
   "outputs": [],
   "source": [
    "# Create two python List say 'List_x' and 'List_your'\n",
    "X_list = list(range(100000))\n",
    "Y_list = list(range(100000))"
   ]
  },
  {
   "cell_type": "code",
   "execution_count": 2,
   "metadata": {},
   "outputs": [],
   "source": [
    "# Import numpy Library\n",
    "import numpy as np\n",
    "# Create two numpy array (say 'X' end 'Y') using above two list\n",
    "X = np.array(X_list)\n",
    "Y = np.array(Y_list)"
   ]
  },
  {
   "cell_type": "code",
   "execution_count": 3,
   "metadata": {},
   "outputs": [],
   "source": [
    "# Define a function to calculate sum\n",
    "# using python Lists X_list, Y_list)\n",
    "def pure_python_version():\n",
    "    Z = []\n",
    "    for i in range(len(X_list)):\n",
    "        Z.append(X_list[i] + Y_list[i])"
   ]
  },
  {
   "cell_type": "code",
   "execution_count": 4,
   "metadata": {},
   "outputs": [],
   "source": [
    "# Define a function to calculate sum\n",
    "# using numpy arrays (X, Y)\n",
    "def numpy_version():\n",
    "# In numpy we can directly perform\n",
    "# sum element-wise as\n",
    "    Z = X + Y "
   ]
  },
  {
   "cell_type": "code",
   "execution_count": 5,
   "metadata": {},
   "outputs": [
    {
     "name": "stdout",
     "output_type": "stream",
     "text": [
      "Pure python version: 7.71044371500102\n",
      "Numpy version: 0.05304372300088289\n"
     ]
    }
   ],
   "source": [
    "# Import Timer class from timeit Library\n",
    "from timeit import Timer\n",
    "\n",
    "timer_obj1 = Timer(\"pure_python_version()\", \n",
    "                   \"from __main__ import pure_python_version\")\n",
    "timer_obj2 = Timer(\"numpy_version()\", \n",
    "                   \"from __main__ import numpy_version\")\n",
    "\n",
    "print(\"Pure python version:\",timer_obj1.timeit(1000))\n",
    "print(\"Numpy version:\",timer_obj2.timeit(1000))"
   ]
  }
 ],
 "metadata": {
  "kernelspec": {
   "display_name": "base",
   "language": "python",
   "name": "python3"
  },
  "language_info": {
   "codemirror_mode": {
    "name": "ipython",
    "version": 3
   },
   "file_extension": ".py",
   "mimetype": "text/x-python",
   "name": "python",
   "nbconvert_exporter": "python",
   "pygments_lexer": "ipython3",
   "version": "3.11.5"
  }
 },
 "nbformat": 4,
 "nbformat_minor": 2
}
